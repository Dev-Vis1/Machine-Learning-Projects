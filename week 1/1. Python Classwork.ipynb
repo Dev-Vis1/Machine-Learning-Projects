{
 "cells": [
  {
   "cell_type": "code",
   "execution_count": 9,
   "id": "16190fbf",
   "metadata": {},
   "outputs": [
    {
     "name": "stdout",
     "output_type": "stream",
     "text": [
      "[0, 1]\n"
     ]
    }
   ],
   "source": [
    "#1\n",
    "def fibonacci(n):\n",
    "           \n",
    "    fib_list = [0, 1]\n",
    "    for i in range(2, n):\n",
    "        \n",
    "        fib_list.append(fib_list[-1] + fib_list[-2])\n",
    "        \n",
    "    return fib_list\n",
    "    \n",
    "    pass\n",
    "\n",
    "print(fibonacci(10))  # Output: [0, 1, 1, 2, 3, 5, 8, 13, 21, 34]"
   ]
  },
  {
   "cell_type": "code",
   "execution_count": 10,
   "id": "843b404f",
   "metadata": {},
   "outputs": [
    {
     "data": {
      "text/plain": [
       "'gnirts'"
      ]
     },
     "execution_count": 10,
     "metadata": {},
     "output_type": "execute_result"
    }
   ],
   "source": [
    "#2 Reverse a string\n",
    "def reverse_string(string):\n",
    "    \n",
    "    return(string [::-1])\n",
    "    \n",
    "reverse_string('string')\n",
    "\n",
    "#3"
   ]
  },
  {
   "cell_type": "code",
   "execution_count": 23,
   "id": "c409b045",
   "metadata": {},
   "outputs": [
    {
     "name": "stdout",
     "output_type": "stream",
     "text": [
      "True\n",
      "False\n"
     ]
    }
   ],
   "source": [
    "#3\n",
    "def is_palindrome(string):\n",
    "    \n",
    "    string = string.lower().replace(\" \",\"\")\n",
    "    reverse_string = string[::-1]\n",
    "    \n",
    "    return(string == reverse_string)\n",
    "        \n",
    "    \n",
    "print(is_palindrome(\"A man a plan a canal Panama\"))  # Output: True\n",
    "print(is_palindrome(\"Hello, World!\"))  # Output: False"
   ]
  },
  {
   "cell_type": "code",
   "execution_count": 42,
   "id": "3c146d08",
   "metadata": {},
   "outputs": [
    {
     "name": "stdout",
     "output_type": "stream",
     "text": [
      "Area: 15\n",
      "Perimeter: 16\n"
     ]
    }
   ],
   "source": [
    "#5\n",
    "class Rectangle:\n",
    "    def __init__(self, length, width):\n",
    "        self.length = length\n",
    "        self.width = width\n",
    "    \n",
    "    def area(self):\n",
    "        area = self.length * self.width\n",
    "        print(\"Area: \" + str(area))\n",
    "        \n",
    "    def parimeter(self):\n",
    "        perimeter = 2* self.length + 2*self.width\n",
    "        print(\"Perimeter: \" + str(perimeter))\n",
    "\n",
    "passrect = Rectangle(5, 3)\n",
    "passrect.area()\n",
    "passrect.parimeter()"
   ]
  },
  {
   "cell_type": "code",
   "execution_count": 50,
   "id": "57b0670a",
   "metadata": {},
   "outputs": [
    {
     "name": "stdout",
     "output_type": "stream",
     "text": [
      "3\n"
     ]
    }
   ],
   "source": [
    "#6 Write a function to count the number of vowels in a given string.\n",
    "def count_vowels(string):\n",
    "    count = 0\n",
    "    list =['a','e','i','o','u']\n",
    "    for char in string:\n",
    "        if char in list:\n",
    "            count += 1\n",
    "    return count\n",
    "    \n",
    "\n",
    "    \n",
    "print(count_vowels(\"Hello, World!\"))  # Output: 3#%% \n",
    "    \n"
   ]
  },
  {
   "cell_type": "code",
   "execution_count": 54,
   "id": "bbdcb756",
   "metadata": {},
   "outputs": [
    {
     "name": "stdout",
     "output_type": "stream",
     "text": [
      "True\n",
      "False\n"
     ]
    }
   ],
   "source": [
    "#7. Write a function to check if two given strings are anagrams of each other.\n",
    "def is_anagram(str1, str2):\n",
    "    \n",
    "    return all((char in str2) for char in str1)\n",
    "\n",
    "\n",
    "print(is_anagram(\"listen\", \"silent\"))  # Output: True\n",
    "print(is_anagram(\"python\", \"java\"))  # Output: False#%%"
   ]
  },
  {
   "cell_type": "code",
   "execution_count": 62,
   "id": "a595e74d",
   "metadata": {},
   "outputs": [
    {
     "name": "stdout",
     "output_type": "stream",
     "text": [
      "[1, 2, 3, 4, 5, 6, 7, 8]\n"
     ]
    }
   ],
   "source": [
    "#8. Write a function to flatten a given nested list.\n",
    "flat_list = []\n",
    "def flatten_list(nested_list):\n",
    "    for item in nested_list:\n",
    "        if isinstance(item, list):\n",
    "            flatten_list(item)\n",
    "        else:\n",
    "            flat_list.append(item)\n",
    "    return flat_list\n",
    "        \n",
    "\n",
    "nested_list = [1, 2, [3, 4], [[5, 6], [7]], 8]\n",
    "print(flatten_list(nested_list))  # Output: [1, 2, 3, 4, 5, 6, 7, 8]"
   ]
  },
  {
   "cell_type": "code",
   "execution_count": null,
   "id": "66c262a0",
   "metadata": {},
   "outputs": [],
   "source": [
    "\n",
    "            "
   ]
  }
 ],
 "metadata": {
  "kernelspec": {
   "display_name": "Python 3 (ipykernel)",
   "language": "python",
   "name": "python3"
  },
  "language_info": {
   "codemirror_mode": {
    "name": "ipython",
    "version": 3
   },
   "file_extension": ".py",
   "mimetype": "text/x-python",
   "name": "python",
   "nbconvert_exporter": "python",
   "pygments_lexer": "ipython3",
   "version": "3.9.13"
  }
 },
 "nbformat": 4,
 "nbformat_minor": 5
}
