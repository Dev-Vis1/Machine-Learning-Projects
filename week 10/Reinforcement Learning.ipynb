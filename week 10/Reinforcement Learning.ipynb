{
 "cells": [
  {
   "cell_type": "markdown",
   "id": "bbe3ff90",
   "metadata": {},
   "source": [
    "#\n",
    "\n",
    "\n",
    "## ML is only a part of AI\n",
    "    Supervised Learning\n",
    "    Unsupervised Learning : Cluster Analysis\n",
    "    Reinforcement Learning : self optimizing systems\n",
    "    \n",
    "    \n",
    "    Reinforcement Learning: \n",
    "        game theory, dynamic programing, control engineering, optimal control,\n",
    "        \n",
    "        - generate an action\n",
    "        -observe reward and state from enviroment\n",
    "        - do smth smart with the info\n",
    "        -generate next action"
   ]
  }
 ],
 "metadata": {
  "kernelspec": {
   "display_name": "Python 3 (ipykernel)",
   "language": "python",
   "name": "python3"
  },
  "language_info": {
   "codemirror_mode": {
    "name": "ipython",
    "version": 3
   },
   "file_extension": ".py",
   "mimetype": "text/x-python",
   "name": "python",
   "nbconvert_exporter": "python",
   "pygments_lexer": "ipython3",
   "version": "3.9.13"
  }
 },
 "nbformat": 4,
 "nbformat_minor": 5
}
