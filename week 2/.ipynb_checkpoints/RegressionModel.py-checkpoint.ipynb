{
 "cells": [
  {
   "cell_type": "code",
   "execution_count": 1,
   "id": "d5bb1855",
   "metadata": {},
   "outputs": [],
   "source": [
    "import numpy as np\n",
    "import matplotlib.pyplot as plt\n",
    "\n",
    "class MLRegression:\n",
    "    def __init__(self):\n",
    "        self.m = 0\n",
    "        self.c = 0\n",
    "        self.N = 1\n",
    "        \n",
    "    def train(self, Xtrain, Ytrain):\n",
    "        self.X = Xtrain\n",
    "        self.Y = Ytrain\n",
    "        SumX = np.sum(self.X)\n",
    "        SumY = np.sum(self.Y)\n",
    "        SumXX = np.sum(self.X*self.X)\n",
    "        SumXY = np.sum(self.X*self.Y)\n",
    "        self.N = self.X.size\n",
    "        self.m = (self.N*SumXY - SumX * SumY)/(self.N*SumXX - SumX*SumX)\n",
    "        self.c = (SumY - self.m*SumX)/self.N\n",
    "        print(\"ML Regression Model has been trained\")\n",
    "        print(\"m=\",self.m, \"c=\",self.c)\n",
    "        plt.scatter(self.X, self.Y)\n",
    "        yhat = self.m * self.X + self.c\n",
    "        plt.plot(self.X, yhat, lw = 4, c=\"orange\")\n",
    "        \n",
    "        \n",
    "        \n",
    "        \n",
    "        \n",
    "    def predict(self, Xtext):\n",
    "        print(\"predict still TBD\")"
   ]
  },
  {
   "cell_type": "code",
   "execution_count": null,
   "id": "cca347f7",
   "metadata": {},
   "outputs": [],
   "source": []
  }
 ],
 "metadata": {
  "kernelspec": {
   "display_name": "Python 3 (ipykernel)",
   "language": "python",
   "name": "python3"
  },
  "language_info": {
   "codemirror_mode": {
    "name": "ipython",
    "version": 3
   },
   "file_extension": ".py",
   "mimetype": "text/x-python",
   "name": "python",
   "nbconvert_exporter": "python",
   "pygments_lexer": "ipython3",
   "version": "3.9.13"
  }
 },
 "nbformat": 4,
 "nbformat_minor": 5
}
