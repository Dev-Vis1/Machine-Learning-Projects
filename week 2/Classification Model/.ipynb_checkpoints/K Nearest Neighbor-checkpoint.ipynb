{
 "cells": [
  {
   "cell_type": "markdown",
   "id": "f434a1aa",
   "metadata": {},
   "source": [
    "#"
   ]
  },
  {
   "cell_type": "code",
   "execution_count": 4,
   "id": "b9b0c309",
   "metadata": {},
   "outputs": [],
   "source": [
    "import numpy as np\n",
    "import matplotlib.pyplot as plt"
   ]
  },
  {
   "cell_type": "code",
   "execution_count": 7,
   "id": "9c9d6a7f",
   "metadata": {},
   "outputs": [
    {
     "data": {
      "text/plain": [
       "<matplotlib.collections.PathCollection at 0x2169b3d5d00>"
      ]
     },
     "execution_count": 7,
     "metadata": {},
     "output_type": "execute_result"
    },
    {
     "data": {
      "image/png": "[encoded data removed]",
      "text/plain": [
       "<Figure size 640x480 with 1 Axes>"
      ]
     },
     "metadata": {},
     "output_type": "display_data"
    }
   ],
   "source": [
    "mydata = np.loadtxt(fname=\"data1.txt\")\n",
    "plt.scatter(mydata[:,0],mydata[:,1],c=mydata[:,2])"
   ]
  },
  {
   "cell_type": "code",
   "execution_count": 19,
   "id": "39d6b245",
   "metadata": {},
   "outputs": [],
   "source": [
    "class KNN:\n",
    "    \n",
    "    def __init__(self, kneighbour=3):\n",
    "        self.kneighbour = kneighbour\n",
    "        \n",
    "        \n",
    "    def train(self,Xtrain):\n",
    "        self.Xtrain = Xtrain\n",
    "        print(\"KNN has been trained\")\n",
    "        #this method belongs to class \"parameter free methods\"\n",
    "        \n",
    "        \n",
    "    def predict(self, Xtest):\n",
    "        #print(\"predicting\")\n",
    "        distances = np.linalg.norm(Xtest - self.Xtrain[:,0:2], axis=1)\n",
    "        print(distances)\n",
    "        indicesSortedDistances = np.argsort(distances)\n",
    "        print(indicesSortedDistances)\n",
    "        \n",
    "        counter = 0\n",
    "        for i in self.Xtrain[indicesSortedDistances[0:self.kneighbour]]:\n",
    "            print(i)"
   ]
  },
  {
   "cell_type": "code",
   "execution_count": 20,
   "id": "9890f485",
   "metadata": {},
   "outputs": [
    {
     "name": "stdout",
     "output_type": "stream",
     "text": [
      "KNN has been trained\n",
      "[7.69675256 7.07106781 7.83900504 4.41474801 3.72155881 5.09901951\n",
      " 4.3829214  3.35410197 6.68505797 9.21954446]\n",
      "[7 4 6 3 5 8 1 0 2 9]\n",
      "[11.  10.5  0. ]\n",
      "[6.1 8.8 1. ]\n",
      "[10.   8.1  0. ]\n"
     ]
    }
   ],
   "source": [
    "classifier = KNN()\n",
    "classifier.train(mydata)\n",
    "classifier.predict([8.0,12.0])"
   ]
  },
  {
   "cell_type": "code",
   "execution_count": null,
   "id": "0b2c5a79",
   "metadata": {},
   "outputs": [],
   "source": []
  }
 ],
 "metadata": {
  "kernelspec": {
   "display_name": "Python 3 (ipykernel)",
   "language": "python",
   "name": "python3"
  },
  "language_info": {
   "codemirror_mode": {
    "name": "ipython",
    "version": 3
   },
   "file_extension": ".py",
   "mimetype": "text/x-python",
   "name": "python",
   "nbconvert_exporter": "python",
   "pygments_lexer": "ipython3",
   "version": "3.9.13"
  }
 },
 "nbformat": 4,
 "nbformat_minor": 5
}
