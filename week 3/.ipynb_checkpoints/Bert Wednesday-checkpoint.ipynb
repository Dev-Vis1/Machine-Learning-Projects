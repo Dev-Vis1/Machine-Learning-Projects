{
 "cells": [
  {
   "cell_type": "markdown",
   "id": "7ede51cf",
   "metadata": {},
   "source": [
    "Underfitting: High bias\n",
    "Overfitting: High variance\n",
    "\n",
    "Bias and variance\n",
    "\n",
    "Bias: Difference prediction/actual values of trainng data\n",
    "Variance: difference prediction of training data vs prediction validation data\n",
    "\n",
    "Giala is to have low bias and low variancw\n",
    "\n",
    "TRain/Validation/Test Data..... hyperparameters\n",
    "\n",
    "live shiny-app\n",
    "\n",
    "\n",
    "Resampling: \n",
    "k-fold cross validation\n",
    "leave one out cross validation --higher computationer effort but more stable result... ptobably not sustainable expecially when we get to deep learning.\n",
    "\n",
    "\n",
    "\n",
    "\n",
    "1. Decision Tree: "
   ]
  },
  {
   "cell_type": "code",
   "execution_count": null,
   "id": "1b810339",
   "metadata": {},
   "outputs": [],
   "source": [
    "import numpy as np\n"
   ]
  }
 ],
 "metadata": {
  "kernelspec": {
   "display_name": "Python 3 (ipykernel)",
   "language": "python",
   "name": "python3"
  },
  "language_info": {
   "codemirror_mode": {
    "name": "ipython",
    "version": 3
   },
   "file_extension": ".py",
   "mimetype": "text/x-python",
   "name": "python",
   "nbconvert_exporter": "python",
   "pygments_lexer": "ipython3",
   "version": "3.9.13"
  }
 },
 "nbformat": 4,
 "nbformat_minor": 5
}
