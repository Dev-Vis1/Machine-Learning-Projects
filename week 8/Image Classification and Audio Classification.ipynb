{
 "cells": [
  {
   "cell_type": "markdown",
   "id": "c1b2e3f6",
   "metadata": {},
   "source": [
    "#treat as \n",
    "    - Time Series\n",
    "    -Images\n",
    "    \n",
    "package: Torch audio\n",
    "    \n",
    "Converting Audio to Imgages using FFT (Frequency and time domain -- Spectrum)"
   ]
  },
  {
   "cell_type": "markdown",
   "id": "20f214d2",
   "metadata": {},
   "source": [
    "#Resnet\n",
    "\n",
    "Problem: training a computer vision to solve complicated problems\n",
    "    \n",
    "    reality -- deeper network didn't improve performance\n",
    "    \n",
    "    solution: create a bypass\n",
    "        \n",
    "        --context??"
   ]
  },
  {
   "cell_type": "code",
   "execution_count": 19,
   "id": "6b2cc30b",
   "metadata": {},
   "outputs": [],
   "source": [
    "#Inception"
   ]
  },
  {
   "cell_type": "code",
   "execution_count": 20,
   "id": "df05c0c2",
   "metadata": {},
   "outputs": [],
   "source": [
    "#Packages\n",
    "import torch\n",
    "import torchvision.transforms as transforms\n",
    "import torchvision\n",
    "import matplotlib.pyplot as plt\n",
    "import numpy as np\n",
    "import torch.nn as nn\n",
    "from sklearn.metrics import accuracy_score    \n",
    "import torch.nn.functional as F\n",
    "from sklearn.metrics import accuracy_score, confusion_matrix"
   ]
  },
  {
   "cell_type": "code",
   "execution_count": 21,
   "id": "6b5f6044",
   "metadata": {},
   "outputs": [],
   "source": [
    "BATCH_SIZE = 5\n",
    "EPOCHS = 15"
   ]
  },
  {
   "cell_type": "code",
   "execution_count": 22,
   "id": "8a965ade",
   "metadata": {},
   "outputs": [],
   "source": [
    "#Transform and load data\n",
    "transform = transforms.Compose([\n",
    "    transforms.Resize((50,50)),\n",
    "    transforms.Grayscale(num_output_channels=1),\n",
    "    #transforms.CenterCrop(200),\n",
    "    #transforms.RandomHorizontalFlip(),\n",
    "    #transforms.FiveCrop(200),\n",
    "    transforms.ToTensor(),\n",
    "    transforms.Normalize((0.5,),(0.5,))\n",
    " ])"
   ]
  },
  {
   "cell_type": "code",
   "execution_count": 23,
   "id": "5b801995",
   "metadata": {},
   "outputs": [],
   "source": [
    "ds_train = torchvision.datasets.ImageFolder(root='data2/train',transform=transform)\n",
    "ds_test =  torchvision.datasets.ImageFolder(root='data2/test',transform=transform)\n",
    "\n",
    "train_loader = torch.utils.data.DataLoader(ds_train, batch_size=BATCH_SIZE, shuffle=True)\n",
    "test_loader = torch.utils.data.DataLoader(ds_test, batch_size=BATCH_SIZE, shuffle=True)"
   ]
  },
  {
   "cell_type": "code",
   "execution_count": 24,
   "id": "d5fe0b03",
   "metadata": {},
   "outputs": [],
   "source": [
    "def imshow(img):\n",
    "    img = img / 2 + 0.5\n",
    "    npimg = img.numpy()\n",
    "    plt.imshow(np.transpose(npimg, (1,2,0)))\n",
    "    plt.show() "
   ]
  },
  {
   "cell_type": "code",
   "execution_count": 25,
   "id": "c488edd4",
   "metadata": {},
   "outputs": [],
   "source": [
    "dataiter = iter(train_loader)\n",
    "#next(dataiter)[0].shape\n",
    "images, labels = next(dataiter)"
   ]
  },
  {
   "cell_type": "code",
   "execution_count": 26,
   "id": "d791d8f9",
   "metadata": {},
   "outputs": [],
   "source": [
    "imshow(torchvision.utils.make_grid(images, nrow=2))\n",
    "print(labels)images.shape\n",
    "#labels.shape"
   ]
  },
  {
   "cell_type": "code",
   "execution_count": 27,
   "id": "0d17998f",
   "metadata": {},
   "outputs": [],
   "source": [
    "images.shape"
   ]
  },
  {
   "cell_type": "code",
   "execution_count": 28,
   "id": "586b2b91",
   "metadata": {},
   "outputs": [],
   "source": [
    "class MultiClassificationModel(nn.Module):\n",
    "    \n",
    "    def __init__(self) -> None:\n",
    "        super().__init__()\n",
    "        self.conv1 = nn.Conv2d(1,6,3)\n",
    "        self.pool = nn.MaxPool2d(2,2)\n",
    "        self.conv2 = nn.Conv2d(6,16,3)\n",
    "        #self.conv3 = nn.Conv2d(16,20,3)\n",
    "        self.fc1 = nn.Linear(16*11*11,128)\n",
    "        self.fc2 = nn.Linear(128,64)\n",
    "        self.fc_out = nn.Linear(64,3) #\n",
    "        self.flatten = nn.Flatten()\n",
    "        self.softmax = nn.LogSoftmax()\n",
    "        self.relu =nn.ReLU()\n",
    "        #pass\n",
    "    \n",
    "    def forward(self,x): #input tensor\n",
    "        x = self.conv1(x)\n",
    "        x = self.relu(x)\n",
    "        x = self.pool(x)\n",
    "        x = self.conv2(x)\n",
    "        x = self.relu(x)\n",
    "        x = self.pool(x) # [bs, 16, 11, 11]\n",
    "        x=  self.flatten(x)\n",
    "        x =self.fc1(x)\n",
    "        x = self.relu(x)\n",
    "        x =self.fc2(x)\n",
    "        x = self.relu(x)\n",
    "        x =self.fc_out(x)\n",
    "        x = self.softmax(x)\n",
    "    \n",
    "        return x\n",
    "    \n",
    "#images -- Conv 2dimensional\n",
    "\n",
    "#First problem was shape\n",
    "# It was corrected wrongly whivh made the whole code complicated torch.flatten also instead of nn.flatten\n",
    "#Once it was running fine, the accuracy was low because no activation function was used in between Linear Layers"
   ]
  },
  {
   "cell_type": "code",
   "execution_count": 29,
   "id": "f9fe05ee",
   "metadata": {},
   "outputs": [],
   "source": [
    "#input = torch.rand(1, 1, 50, 50) # BS, C, H, W\n",
    "model = MultiClassificationModel()\n",
    "#print(model(input).shape)\n",
    "#print(16*11*11)"
   ]
  },
  {
   "cell_type": "code",
   "execution_count": 31,
   "id": "ba554088",
   "metadata": {},
   "outputs": [],
   "source": [
    "loss_fn = nn.CrossEntropyLoss()\n",
    "optimizer = torch.optim.Adam(model.parameters(),lr=0.01)"
   ]
  },
  {
   "cell_type": "code",
   "execution_count": 32,
   "id": "dddc1ce8",
   "metadata": {},
   "outputs": [
    {
     "name": "stderr",
     "output_type": "stream",
     "text": [
      "C:\\Users\\nx027313\\Anaconda3\\lib\\site-packages\\torch\\nn\\modules\\module.py:1532: UserWarning: Implicit dimension choice for log_softmax has been deprecated. Change the call to include dim=X as an argument.\n",
      "  return self._call_impl(*args, **kwargs)\n"
     ]
    },
    {
     "name": "stdout",
     "output_type": "stream",
     "text": [
      "Epoch 0/15, Loss: 62.2995\n",
      "Epoch 1/15, Loss: 38.2601\n",
      "Epoch 2/15, Loss: 28.3438\n",
      "Epoch 3/15, Loss: 16.5088\n",
      "Epoch 4/15, Loss: 6.4350\n",
      "Epoch 5/15, Loss: 2.5803\n",
      "Epoch 6/15, Loss: 0.7215\n",
      "Epoch 7/15, Loss: 0.1953\n",
      "Epoch 8/15, Loss: 0.1092\n",
      "Epoch 9/15, Loss: 0.0536\n",
      "Epoch 10/15, Loss: 0.0364\n",
      "Epoch 11/15, Loss: 0.0278\n",
      "Epoch 12/15, Loss: 0.0220\n",
      "Epoch 13/15, Loss: 0.0174\n",
      "Epoch 14/15, Loss: 0.0143\n"
     ]
    }
   ],
   "source": [
    "losses = []\n",
    "for epoch in range(EPOCHS):\n",
    "    loss_epoch = 0\n",
    "    for i, data in enumerate(train_loader, 0):\n",
    "        #print(i)\n",
    "        #print(data)\n",
    "        input_imgs, true_labels = data\n",
    "        #setting grad to zero\n",
    "        optimizer.zero_grad()\n",
    "        #print(data[0].shape)\n",
    "        \n",
    "        #forward pass\n",
    "        pred_labels = model(input_imgs)\n",
    "        \n",
    "        #calculate losses\n",
    "        #true_labels_reshaped = true_labels.repeat(1, 3).reshape(-1, 3)\n",
    "        loss = loss_fn(pred_labels, true_labels)\n",
    "        \n",
    "        #loss = loss_fn(pred_labels, true_labels.reshape(-1,1).float())\n",
    "        \n",
    "        #backward pass\n",
    "        loss.backward()\n",
    "        \n",
    "        #update the weight\n",
    "        optimizer.step()\n",
    "        \n",
    "        #store losses in a list\n",
    "        loss_epoch += loss.item()\n",
    "        \n",
    "    losses.append(loss_epoch)\n",
    "    print(f'Epoch {epoch+1}/{EPOCHS}, Loss: {loss_epoch:.4f}')\n",
    "        #losses.append(loss.item())"
   ]
  },
  {
   "cell_type": "code",
   "execution_count": 33,
   "id": "ba2ae272",
   "metadata": {},
   "outputs": [
    {
     "data": {
      "text/plain": [
       "[<matplotlib.lines.Line2D at 0x23544aa87f0>]"
      ]
     },
     "execution_count": 33,
     "metadata": {},
     "output_type": "execute_result"
    },
    {
     "data": {
      "image/png": "[encoded data removed]",
      "text/plain": [
       "<Figure size 640x480 with 1 Axes>"
      ]
     },
     "metadata": {},
     "output_type": "display_data"
    }
   ],
   "source": [
    "plt.plot(losses)"
   ]
  },
  {
   "cell_type": "code",
   "execution_count": 34,
   "id": "b2ff2d35",
   "metadata": {},
   "outputs": [],
   "source": [
    "#create prediction and true label list\n",
    "          \n",
    "y_test_true = []\n",
    "y_test_pred = []\n",
    "# iterate over the test data\n",
    "for i, data in enumerate(test_loader, 0):\n",
    "    input_imgs, true_labels = data\n",
    "    with torch.no_grad():\n",
    "        pred_labels = model(input_imgs).round()\n",
    "    \n",
    "    y_test_true.extend(true_labels.numpy())\n",
    "    y_test_pred.extend(pred_labels.numpy())"
   ]
  },
  {
   "cell_type": "code",
   "execution_count": 35,
   "id": "3077b0a6",
   "metadata": {},
   "outputs": [
    {
     "name": "stdout",
     "output_type": "stream",
     "text": [
      "95.0\n"
     ]
    },
    {
     "data": {
      "text/plain": [
       "array([[20,  0,  0],\n",
       "       [ 0, 20,  0],\n",
       "       [ 3,  0, 17]], dtype=int64)"
      ]
     },
     "execution_count": 35,
     "metadata": {},
     "output_type": "execute_result"
    }
   ],
   "source": [
    "#y_test_pred.shape\n",
    "\n",
    "acc = accuracy_score(y_test_true, np.argmax(y_test_pred, axis=1))\n",
    "print(acc * 100)\n",
    "# %% confusion matrix\n",
    "from sklearn.metrics import confusion_matrix\n",
    "cm = confusion_matrix(y_test_true, np.argmax(y_test_pred, axis=1))\n",
    "cm"
   ]
  },
  {
   "cell_type": "code",
   "execution_count": 36,
   "id": "add08bc1",
   "metadata": {},
   "outputs": [
    {
     "name": "stdout",
     "output_type": "stream",
     "text": [
      "[array([  0., -72., -35.], dtype=float32), array([  0., -68., -41.], dtype=float32), array([ -0., -28.,  -7.], dtype=float32), array([-46.,   0., -19.], dtype=float32), array([-34.,  -0., -16.], dtype=float32), array([-12., -15.,  -0.], dtype=float32), array([-34.,  -0., -16.], dtype=float32), array([-67.,  -0., -15.], dtype=float32), array([-46.,   0., -19.], dtype=float32), array([   0., -100.,  -54.], dtype=float32), array([-12., -47.,  -0.], dtype=float32), array([-34.,  -0., -16.], dtype=float32), array([  0., -42., -23.], dtype=float32), array([ -0., -23., -10.], dtype=float32), array([  0., -83., -49.], dtype=float32), array([-14., -23.,  -0.], dtype=float32), array([  0., -49., -28.], dtype=float32), array([-32.,  -0., -12.], dtype=float32), array([ -0., -10.,  -3.], dtype=float32), array([ -0., -38., -10.], dtype=float32), array([-25.,  -0., -13.], dtype=float32), array([ -0., -21.,  -9.], dtype=float32), array([-25.,  -0., -13.], dtype=float32), array([  0., -57., -32.], dtype=float32), array([ -0., -10.,  -3.], dtype=float32), array([-25.,  -0., -13.], dtype=float32), array([-34., -56.,   0.], dtype=float32), array([-13., -21.,  -0.], dtype=float32), array([  0., -47., -26.], dtype=float32), array([-12., -27.,  -0.], dtype=float32), array([-11., -14.,  -0.], dtype=float32), array([-59.,   0., -26.], dtype=float32), array([-34.,  -0., -16.], dtype=float32), array([-59.,   0., -26.], dtype=float32), array([ -0., -35., -13.], dtype=float32), array([ -0., -42., -15.], dtype=float32), array([ -2., -18.,  -0.], dtype=float32), array([ -0., -24., -12.], dtype=float32), array([-33.,  -0., -12.], dtype=float32), array([-16., -13.,  -0.], dtype=float32), array([-32.,  -0., -12.], dtype=float32), array([-16., -33.,  -0.], dtype=float32), array([-34.,  -0., -16.], dtype=float32), array([ -0., -46., -15.], dtype=float32), array([  0., -95., -61.], dtype=float32), array([-20., -34.,   0.], dtype=float32), array([  0., -66., -38.], dtype=float32), array([-67.,  -0., -15.], dtype=float32), array([ -9., -15.,  -0.], dtype=float32), array([  0., -46., -18.], dtype=float32), array([-21., -34.,   0.], dtype=float32), array([-34.,  -0., -16.], dtype=float32), array([-14.,  -0., -10.], dtype=float32), array([-14., -27.,  -0.], dtype=float32), array([-46.,   0., -19.], dtype=float32), array([-12., -16.,  -0.], dtype=float32), array([-11., -24.,  -0.], dtype=float32), array([ -9., -18.,  -0.], dtype=float32), array([  0., -53., -25.], dtype=float32), array([  0., -48., -25.], dtype=float32)]\n"
     ]
    }
   ],
   "source": [
    "print(y_test_pred)"
   ]
  },
  {
   "cell_type": "code",
   "execution_count": null,
   "id": "29e0c648",
   "metadata": {},
   "outputs": [],
   "source": []
  }
 ],
 "metadata": {
  "kernelspec": {
   "display_name": "Python 3 (ipykernel)",
   "language": "python",
   "name": "python3"
  },
  "language_info": {
   "codemirror_mode": {
    "name": "ipython",
    "version": 3
   },
   "file_extension": ".py",
   "mimetype": "text/x-python",
   "name": "python",
   "nbconvert_exporter": "python",
   "pygments_lexer": "ipython3",
   "version": "3.9.13"
  }
 },
 "nbformat": 4,
 "nbformat_minor": 5
}
