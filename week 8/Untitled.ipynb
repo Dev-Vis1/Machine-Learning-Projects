{
 "cells": [
  {
   "cell_type": "code",
   "execution_count": 1,
   "id": "be36b542",
   "metadata": {},
   "outputs": [
    {
     "name": "stderr",
     "output_type": "stream",
     "text": [
      "C:\\Users\\nx027313\\Anaconda3\\lib\\site-packages\\torch\\nn\\modules\\module.py:1532: UserWarning: Implicit dimension choice for log_softmax has been deprecated. Change the call to include dim=X as an argument.\n",
      "  return self._call_impl(*args, **kwargs)\n"
     ]
    },
    {
     "name": "stdout",
     "output_type": "stream",
     "text": [
      "Epoch 0/10, Loss: 1.5151\n",
      "Epoch 1/10, Loss: 0.2902\n",
      "Epoch 2/10, Loss: 0.5614\n",
      "Epoch 3/10, Loss: 0.0455\n",
      "Epoch 4/10, Loss: 0.0839\n",
      "Epoch 5/10, Loss: 0.0515\n",
      "Epoch 6/10, Loss: 0.1925\n",
      "Epoch 7/10, Loss: 0.0021\n",
      "Epoch 8/10, Loss: 0.0358\n",
      "Epoch 9/10, Loss: 0.0772\n",
      "Accuracy: 96.67 %\n"
     ]
    },
    {
     "data": {
      "text/plain": [
       "array([[20,  0,  0],\n",
       "       [ 0, 20,  0],\n",
       "       [ 2,  0, 18]], dtype=int64)"
      ]
     },
     "execution_count": 1,
     "metadata": {},
     "output_type": "execute_result"
    }
   ],
   "source": [
    "#%% packages\n",
    "import torch\n",
    "import torchvision\n",
    "import torchvision.transforms as transforms\n",
    "import torch.nn as nn\n",
    "import torch.nn.functional as F\n",
    "import os\n",
    "import matplotlib.pyplot as plt\n",
    "import numpy as np\n",
    "from sklearn.metrics import accuracy_score, confusion_matrix\n",
    "os.getcwd()\n",
    "\n",
    "# %% transform and load data\n",
    "transform = transforms.Compose(\n",
    "    [transforms.Resize((50,50)),\n",
    "    transforms.Grayscale(num_output_channels=1),\n",
    "    transforms.ToTensor(),\n",
    "    transforms.Normalize((0.5, ), (0.5, ))])\n",
    "\n",
    "batch_size = 4\n",
    "trainset = torchvision.datasets.ImageFolder(root='data2/train', transform=transform)\n",
    "trainloader = torch.utils.data.DataLoader(trainset, batch_size=batch_size, shuffle=True)\n",
    "testset = torchvision.datasets.ImageFolder(root='data2/test', transform=transform)\n",
    "testloader = torch.utils.data.DataLoader(testset, batch_size=batch_size, shuffle=True)\n",
    "\n",
    "# %%\n",
    "CLASSES = ['affenpinscher', 'akita', 'corgi']\n",
    "NUM_CLASSES = len(CLASSES)\n",
    "class ImageMulticlassClassificationNet(nn.Module):\n",
    "    def __init__(self) -> None:\n",
    "        super().__init__()\n",
    "        self.conv1 = nn.Conv2d(1, 6, 3)  \n",
    "        self.pool = nn.MaxPool2d(2, 2)  \n",
    "        self.conv2 = nn.Conv2d(6, 16, 3) \n",
    "        self.flatten = nn.Flatten()\n",
    "        self.fc1 = nn.Linear(16 * 11 * 11, 128) # out: (BS, 128)\n",
    "        self.fc2 = nn.Linear(128, 64)\n",
    "        self.fc3 = nn.Linear(64, NUM_CLASSES)\n",
    "        self.relu = nn.ReLU()\n",
    "        self.softmax = nn.LogSoftmax()\n",
    "    \n",
    "    def forward(self, x):\n",
    "        x = self.conv1(x) # out: (BS, 6, 48, 48)\n",
    "        x = self.relu(x)\n",
    "        x = self.pool(x) # out: (BS, 6, 24, 24)\n",
    "        x = self.conv2(x) # out: (BS, 16, 22, 22)\n",
    "        x = self.relu(x)\n",
    "        x = self.pool(x) # out: (BS, 16, 11, 11)\n",
    "        x = self.flatten(x)\n",
    "        x = self.fc1(x)\n",
    "        x = self.relu(x)\n",
    "        x = self.fc2(x)\n",
    "        x = self.relu(x)\n",
    "        x = self.fc3(x)\n",
    "        x = self.softmax(x)\n",
    "        return x\n",
    "\n",
    "# input = torch.rand(1, 1, 50, 50) # BS, C, H, W\n",
    "model = ImageMulticlassClassificationNet()      \n",
    "# model(input).shape\n",
    "\n",
    "# %% \n",
    "loss_fn = nn.CrossEntropyLoss()\n",
    "optimizer = torch.optim.Adam(model.parameters())\n",
    "# %% training\n",
    "NUM_EPOCHS = 10\n",
    "for epoch in range(NUM_EPOCHS):\n",
    "    for i, data in enumerate(trainloader, 0):\n",
    "        inputs, labels = data\n",
    "        optimizer.zero_grad()\n",
    "        outputs = model(inputs)\n",
    "\n",
    "        \n",
    "        loss = loss_fn(outputs, labels)\n",
    "        loss.backward()\n",
    "        optimizer.step()\n",
    "    \n",
    "    print(f'Epoch {epoch}/{NUM_EPOCHS}, Loss: {loss.item():.4f}')\n",
    "\n",
    "\n",
    "# %% test\n",
    "y_test = []\n",
    "y_test_hat = []\n",
    "for i, data in enumerate(testloader, 0):\n",
    "    inputs, y_test_temp = data\n",
    "    with torch.no_grad():\n",
    "        y_test_hat_temp = model(inputs).round()\n",
    "    \n",
    "    y_test.extend(y_test_temp.numpy())\n",
    "    y_test_hat.extend(y_test_hat_temp.numpy())\n",
    "\n",
    "# %%\n",
    "acc = accuracy_score(y_test, np.argmax(y_test_hat, axis=1))\n",
    "print(f'Accuracy: {acc*100:.2f} %')\n",
    "# %% confusion matrix\n",
    "confusion_matrix(y_test, np.argmax(y_test_hat, axis=1))\n",
    "# %%"
   ]
  },
  {
   "cell_type": "code",
   "execution_count": null,
   "id": "dd587fd9",
   "metadata": {},
   "outputs": [],
   "source": []
  }
 ],
 "metadata": {
  "kernelspec": {
   "display_name": "Python 3 (ipykernel)",
   "language": "python",
   "name": "python3"
  },
  "language_info": {
   "codemirror_mode": {
    "name": "ipython",
    "version": 3
   },
   "file_extension": ".py",
   "mimetype": "text/x-python",
   "name": "python",
   "nbconvert_exporter": "python",
   "pygments_lexer": "ipython3",
   "version": "3.9.13"
  }
 },
 "nbformat": 4,
 "nbformat_minor": 5
}
